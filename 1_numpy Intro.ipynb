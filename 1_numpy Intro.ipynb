{
 "cells": [
  {
   "cell_type": "markdown",
   "id": "16e29bcc",
   "metadata": {},
   "source": [
    "### What is numpy\n",
    "- Numpy is extremely popular python module.It is heavily used in scientic computing\n",
    "- Numpy's most useful feature is n dimensional array object(also called aas ndarray)\n",
    "####  03 main benefits of numpy array over python list,\n",
    "1. Less memory\n",
    "2. fast\n",
    "3. convinient"
   ]
  },
  {
   "cell_type": "code",
   "execution_count": 7,
   "id": "237190f4",
   "metadata": {},
   "outputs": [],
   "source": [
    "import numpy as np\n",
    "import sys\n",
    "s=np.array([1,2,3])"
   ]
  },
  {
   "cell_type": "code",
   "execution_count": 9,
   "id": "0af87e84",
   "metadata": {},
   "outputs": [
    {
     "name": "stdout",
     "output_type": "stream",
     "text": [
      "28000\n"
     ]
    }
   ],
   "source": [
    "l=range(1000)\n",
    "print(sys.getsizeof(5)*len(l))"
   ]
  },
  {
   "cell_type": "code",
   "execution_count": 11,
   "id": "c55d25be",
   "metadata": {},
   "outputs": [],
   "source": [
    "array=np.arange(1000)"
   ]
  },
  {
   "cell_type": "code",
   "execution_count": 5,
   "id": "2f24d881",
   "metadata": {},
   "outputs": [
    {
     "name": "stdout",
     "output_type": "stream",
     "text": [
      "4000\n"
     ]
    }
   ],
   "source": [
    "print(array.size*array.itemsize)\n",
    "#we can see that python list is taking 28000 bytes whereas numpy array is taking4000 bytes"
   ]
  },
  {
   "cell_type": "markdown",
   "id": "15b093ec",
   "metadata": {},
   "source": [
    "### Now we proving that numpy array us fast and convinient compared to native python list"
   ]
  },
  {
   "cell_type": "code",
   "execution_count": 17,
   "id": "95e09232",
   "metadata": {},
   "outputs": [
    {
     "name": "stdout",
     "output_type": "stream",
     "text": [
      "python list took: 899.0187644958496\n",
      "numpy took: 59.792280197143555 millisecond\n"
     ]
    }
   ],
   "source": [
    "import time\n",
    "size=1000000\n",
    "#python list\n",
    "\n",
    "l1=range(size)\n",
    "l2=range(size)\n",
    "\n",
    "#list\n",
    "start=time.time()\n",
    "result=[[x+y] for x, y in zip (l1,l2)]\n",
    "print(\"python list took:\",(time.time()-start)*1000)\n",
    "##numpy array\n",
    "a1=np.arange(size)\n",
    "a2=np.arange(size)\n",
    "start=time.time()\n",
    "result=a1+a2\n",
    "print(\"numpy took:\",(time.time()-start)*1000,\"millisecond\")#by default it is second but we are converting into milisecond\n",
    "\n"
   ]
  },
  {
   "cell_type": "code",
   "execution_count": null,
   "id": "24b666a0",
   "metadata": {},
   "outputs": [],
   "source": []
  }
 ],
 "metadata": {
  "kernelspec": {
   "display_name": "Python 3 (ipykernel)",
   "language": "python",
   "name": "python3"
  },
  "language_info": {
   "codemirror_mode": {
    "name": "ipython",
    "version": 3
   },
   "file_extension": ".py",
   "mimetype": "text/x-python",
   "name": "python",
   "nbconvert_exporter": "python",
   "pygments_lexer": "ipython3",
   "version": "3.9.12"
  }
 },
 "nbformat": 4,
 "nbformat_minor": 5
}
